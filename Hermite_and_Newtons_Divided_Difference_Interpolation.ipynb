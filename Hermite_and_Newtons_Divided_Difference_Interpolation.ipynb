{
  "cells": [
    {
      "cell_type": "markdown",
      "metadata": {
        "id": "fP0MNErrPlvS"
      },
      "source": [
        "Make sure you remove `raise NotImplementedError()` and fill in any place that says `# YOUR CODE HERE`, as well as your `NAME`, `ID`, and `SECTION` below:"
      ]
    },
    {
      "cell_type": "code",
      "execution_count": null,
      "metadata": {
        "id": "dxCjWtFxPlvX"
      },
      "outputs": [],
      "source": [
        "NAME = \"Shihab Muhtasim\"\n",
        "ID = \"21301610\"\n",
        "SECTION = \"3\" "
      ]
    },
    {
      "cell_type": "markdown",
      "metadata": {
        "id": "NQ8skUBePlvZ"
      },
      "source": [
        "---"
      ]
    },
    {
      "cell_type": "markdown",
      "metadata": {
        "deletable": false,
        "editable": false,
        "id": "mUa8n1tfPlva",
        "nbgrader": {
          "cell_type": "markdown",
          "checksum": "9b7261b005274f20aab5b5157815cc4f",
          "grade": false,
          "grade_id": "title",
          "locked": true,
          "schema_version": 3,
          "solution": false,
          "task": false
        }
      },
      "source": [
        "# Part 1: Hermite Interpolation\n",
        "---\n",
        "Hermite Interpolation is an example of a variant of the interpolation problem, where the interpolant matches one or more **derivatives of $f$**  at each of the nodes, in addition to the function values."
      ]
    },
    {
      "cell_type": "markdown",
      "metadata": {
        "deletable": false,
        "editable": false,
        "id": "t6HuHqs8Plva",
        "nbgrader": {
          "cell_type": "markdown",
          "checksum": "2ac7b29da925009a6e6e93ce16cd1871",
          "grade": false,
          "grade_id": "intro1",
          "locked": true,
          "schema_version": 3,
          "solution": false,
          "task": false
        }
      },
      "source": [
        "## Importing the necessary libraries"
      ]
    },
    {
      "cell_type": "code",
      "execution_count": null,
      "metadata": {
        "deletable": false,
        "editable": false,
        "id": "zaOqCWsePlvb",
        "nbgrader": {
          "cell_type": "code",
          "checksum": "b3ce57ac45d5516f69d56b4a7c02a1d6",
          "grade": false,
          "grade_id": "import",
          "locked": true,
          "schema_version": 3,
          "solution": false,
          "task": false
        }
      },
      "outputs": [],
      "source": [
        "import numpy as np\n",
        "import matplotlib.pyplot as plt\n",
        "from itertools import combinations\n",
        "from numpy.polynomial import Polynomial"
      ]
    },
    {
      "cell_type": "markdown",
      "metadata": {
        "deletable": false,
        "editable": false,
        "id": "wR9qR23NPlvb",
        "nbgrader": {
          "cell_type": "markdown",
          "checksum": "9368014a5a45cd31c846853230dae411",
          "grade": false,
          "grade_id": "intro2",
          "locked": true,
          "schema_version": 3,
          "solution": false,
          "task": false
        }
      },
      "source": [
        "## Creating the components for Hermite interpolation\n",
        "\n",
        "For the case of Hermite Interpolation, we look for a polynomial that matches both $f'(x_i)$ and $f(x_i)$ at the nodes $x_i = x_0,\\dots,x_n$. Say you have $n+1$ data points, $(x_0, y_0), (x_1, y_1), x_2, y_2), \\dots, (x_n, y_n)$ and you happen to know the first-order derivative at all of these points, namely, $(x_0, y_0 ^\\prime ), (x_1, y_1 ^\\prime ), x_2, y_2 ^\\prime ), \\dots ,(x_n, y_n ^\\prime )$. According to hermite interpolation, since there are $2n + 2$ conditions; $n+1$ for $f(x_i)$ plus $n+1$ for $f'(x_i)$; you can fit a polynomial of order $2n+1$. \n",
        "\n",
        "General form of a $2n+1$ degree Hermite polynomial:\n",
        "\n",
        "$$p_{2n+1} = \\sum_{k=0}^{n} \\left(f(x_k)h_k(x) + f'(x_k)\\hat{h}_k(x)\\right), \\tag{1}$$\n",
        "\n",
        "where $h_k$ and $\\hat{h}_k$ are defined using Lagrange basis functions by the following equations:\n",
        "\n",
        "$$h_k(x) = (1-2(x-x_k)l^\\prime_k(x_k))l^2_k(x_k), \\tag{2}$$\n",
        "\n",
        "and\n",
        "\n",
        "$$\\hat{h}_k(x) = (x-x_k)l^2_k(x_k), \\tag{3}$$\n",
        "\n",
        "where the Lagrange basis function being:\n",
        "\n",
        "$$l_k(x) = \\prod_{j=0, j\\neq k}^{n} \\frac{x-x_j}{x_k-x_j}. \\tag{4}$$\n",
        "\n",
        "**Note** that, we can rewrite Equation $(2)$ in this way,\n",
        "\n",
        "\\begin{align}\n",
        "h_k(x) &= \\left(1-2(x-x_k)l^\\prime_k(x_k) \\right)l^2_k(x_k) \\\\\n",
        "&= \\left(1 - 2xl^\\prime_k(x_k) + 2x_kl^\\prime_k(x_k) \\right)l^2_k(x_k) \\\\\n",
        "&= \\left(1 + 2x_kl^\\prime_k(x_k) - 2l'_k(x_k)x \\right) l^2_k(x_k) \\tag{5}\n",
        "\\end{align}\n",
        "Replacing $l^\\prime_k(x_k)$ with $m$, we get:\n",
        "$$h_k(x) = (1 - 2xm + 2x_km)l^2_k(x_k). \\tag{6}$$\n",
        "\n",
        "# Tasks:\n",
        "\n",
        "* The functions: `l(k, x)`, `h(k, x)` and `h_hat(k, x)` calculate the corresponding $l_k$, $h_k$, and $\\hat{h}_k$, respectively.\n",
        "\n",
        "* Function `l(k, x)` has already been defined for you. Your task is to complete the `h(k, x)`, `h_hat(k, x)`, and `hermit(x, y, y_prime)` functions.\n",
        "\n",
        "* Later we will draw some plots to check if the code is working.\n",
        "\n",
        "---"
      ]
    },
    {
      "cell_type": "markdown",
      "metadata": {
        "deletable": false,
        "editable": false,
        "id": "PPIUqb63Plvc",
        "nbgrader": {
          "cell_type": "markdown",
          "checksum": "b73facf56ebe52af4d34ce6aed213204",
          "grade": false,
          "grade_id": "part01_intro",
          "locked": true,
          "schema_version": 3,
          "solution": false,
          "task": false
        }
      },
      "source": [
        "### Part 1: Calculate $l_k$\n",
        "This function uses the following equation to calculate $l_k(x)$ and returns a polynomial:\n",
        "\n",
        "$$l_k(x) = \\prod_{j=0, j\\neq k}^{n} \\frac{x-x_j}{x_k-x_j}.$$"
      ]
    },
    {
      "cell_type": "code",
      "execution_count": null,
      "metadata": {
        "deletable": false,
        "editable": false,
        "id": "hLF2Df6LPlvd",
        "nbgrader": {
          "cell_type": "code",
          "checksum": "193776fb462b953e4cc901203895dce4",
          "grade": false,
          "grade_id": "l_ans",
          "locked": true,
          "schema_version": 3,
          "solution": false,
          "task": false
        }
      },
      "outputs": [],
      "source": [
        "# Already written for you.\n",
        "\n",
        "def l(k, x):\n",
        "    n = len(x)\n",
        "    assert (k < len(x))\n",
        "    \n",
        "    x_k = x[k]\n",
        "    x_copy = np.delete(x, k)\n",
        "    \n",
        "    denominator = np.prod(x_copy - x_k)\n",
        "    \n",
        "    coeff = []\n",
        "    \n",
        "    for i in range(n):\n",
        "        coeff.append(sum([np.prod(x) for x in combinations(x_copy, i)]) * (-1)**(i) / denominator)\n",
        "    \n",
        "    coeff.reverse()\n",
        "    \n",
        "    return Polynomial(coeff)"
      ]
    },
    {
      "cell_type": "markdown",
      "metadata": {
        "deletable": false,
        "editable": false,
        "id": "WDJyus6iPlve",
        "nbgrader": {
          "cell_type": "markdown",
          "checksum": "2b2776844ce83abcacb6b0ba6028ccd0",
          "grade": false,
          "grade_id": "part02_intro",
          "locked": true,
          "schema_version": 3,
          "solution": false,
          "task": false
        }
      },
      "source": [
        "### Part 2: Calculate $h_k$\n",
        "This function calculates $h_k(x)$ using the following equation:\n",
        "$$h_k(x) = \\left(1 + 2x_kl^\\prime_k(x_k) - 2l'_k(x_k)x \\right) l^2_k(x_k).$$\n",
        "\n",
        "This equation is basically a multiplication of two polynomials.\n",
        "\n",
        "First polynomial: $1 + 2x_kl^\\prime_k(x_k) - 2l'_k(x_k)x$.\n",
        "\n",
        "Second polynomial: $l^2_k(x_k)$.\n",
        "\n",
        "The `coeff` variable should contain a python list of coefficient values for the **first** polynomial of the equation. These coefficient values are used to create a polynomial `p`."
      ]
    },
    {
      "cell_type": "code",
      "execution_count": null,
      "metadata": {
        "deletable": false,
        "id": "QFOHvxn4Plve",
        "nbgrader": {
          "cell_type": "code",
          "checksum": "b40e0245554b77b7aeb6e6fada5c28f9",
          "grade": false,
          "grade_id": "h_ans",
          "locked": false,
          "schema_version": 3,
          "solution": true,
          "task": false
        }
      },
      "outputs": [],
      "source": [
        "def h(k, x):\n",
        "\n",
        "    # YOUR CODE HERE\n",
        "    l_k = l(k,x)\n",
        "    l_k_sqr = l_k**2\n",
        "    l_k_prime = l_k.deriv(1)\n",
        "    coeff = np.array([1+(2*x[k]*l_k_prime(x[k])), -2*l_k_prime(x[k])])\n",
        "    p = Polynomial(coeff)\n",
        "  \n",
        "   \n",
        "    \n",
        "\n",
        "    #raise NotImplementedError()\n",
        "    # --------------------------------------------\n",
        "    \n",
        "    return p * l_k_sqr"
      ]
    },
    {
      "cell_type": "code",
      "execution_count": null,
      "metadata": {
        "deletable": false,
        "editable": false,
        "id": "GzGTUWJ1Plvf",
        "nbgrader": {
          "cell_type": "code",
          "checksum": "084dac03acc384f3952f1decde3eda17",
          "grade": true,
          "grade_id": "h_test",
          "locked": true,
          "points": 1.5,
          "schema_version": 3,
          "solution": false,
          "task": false
        }
      },
      "outputs": [],
      "source": [
        "# Test case for the h(k, x) function\n",
        "x = [3, 5, 7, 9]\n",
        "k = 2\n",
        "h_test = h(k, [3, 5, 7, 9])\n",
        "h_result = Polynomial([-2.5, 0.5]) * (l(k, x) ** 2)\n",
        "\n",
        "assert Polynomial.has_samecoef(h_result, h_test)\n",
        "assert h_result == h_test"
      ]
    },
    {
      "cell_type": "markdown",
      "metadata": {
        "deletable": false,
        "editable": false,
        "id": "M724n62yPlvf",
        "nbgrader": {
          "cell_type": "markdown",
          "checksum": "e95ffdba5dfcaf981dc8b884538cb7fa",
          "grade": false,
          "grade_id": "part03_intro",
          "locked": true,
          "schema_version": 3,
          "solution": false,
          "task": false
        }
      },
      "source": [
        "### Part 3: Calculate $\\hat{h}_k$\n",
        "This function calculates $\\hat{h}_k(x)$ using the following equation:\n",
        "\n",
        "$$\\hat{h}_k(x) = (x-x_k)l^2_k(x_k).$$\n",
        "\n",
        "This equation is also a multiplication of two polynomials.\n",
        "\n",
        "First polynomial: $x-x_k$.\n",
        "\n",
        "Second polynomial:  $l^2_k(x_k)$.\n",
        "\n",
        "The `coeff` variable should contain a python list of coefficient values for the **first** polynomial of the equation. These coefficient values are used to create a polynomial `p`."
      ]
    },
    {
      "cell_type": "code",
      "execution_count": null,
      "metadata": {
        "deletable": false,
        "id": "R0VeC9AIPlvf",
        "nbgrader": {
          "cell_type": "code",
          "checksum": "526567f27fdc6b0c693944715388aeb3",
          "grade": false,
          "grade_id": "h_hat_ans",
          "locked": false,
          "schema_version": 3,
          "solution": true,
          "task": false
        }
      },
      "outputs": [],
      "source": [
        "def h_hat(k, x):\n",
        "\n",
        "    # YOUR CODE HERE\n",
        "    l_k =l(k,x)\n",
        "    l_k_sqr =l_k**2\n",
        "    coeff = np.array([-x[k],1])\n",
        "    p=Polynomial(coeff)\n",
        "    \n",
        "\n",
        "    #raise NotImplementedError()\n",
        "    # --------------------------------------------\n",
        "    \n",
        "    return p * l_k_sqr"
      ]
    },
    {
      "cell_type": "code",
      "execution_count": null,
      "metadata": {
        "deletable": false,
        "editable": false,
        "id": "URbFerVBPlvg",
        "nbgrader": {
          "cell_type": "code",
          "checksum": "dab48dc3e3425ad92aac1fdc643320cd",
          "grade": true,
          "grade_id": "h_hat_test",
          "locked": true,
          "points": 1.5,
          "schema_version": 3,
          "solution": false,
          "task": false
        }
      },
      "outputs": [],
      "source": [
        "x = [3, 5, 7, 9]\n",
        "k = 2\n",
        "h_test = h_hat(k, [3, 5, 7, 9])\n",
        "h_result = Polynomial([-7, 1]) * (l(k, x) ** 2)\n",
        "\n",
        "assert Polynomial.has_samecoef(h_result, h_test)\n",
        "assert h_result == h_test"
      ]
    },
    {
      "cell_type": "markdown",
      "metadata": {
        "deletable": false,
        "editable": false,
        "id": "yJzRxYHuPlvg",
        "nbgrader": {
          "cell_type": "markdown",
          "checksum": "cd0d1d10b688aec869dfd36a17eda759",
          "grade": false,
          "grade_id": "part04_intro",
          "locked": true,
          "schema_version": 3,
          "solution": false,
          "task": false
        }
      },
      "source": [
        "### Part 4: The Hermite Polynomial\n",
        "This function uses the following equation:\n",
        "\n",
        "$$p_{2n+1} = \\sum_{k=0}^{n} \\left(f(x_k)h_k(x) + f'(x_k)\\hat{h}_k(x)\\right).$$\n",
        "\n",
        "The polynomial denoted by the equation is calculated by the variable `f`."
      ]
    },
    {
      "cell_type": "code",
      "execution_count": null,
      "metadata": {
        "deletable": false,
        "id": "CVWuSAIqPlvg",
        "nbgrader": {
          "cell_type": "code",
          "checksum": "238ae82cc84e0f1db6ee42946346ae4a",
          "grade": false,
          "grade_id": "part04_ans",
          "locked": false,
          "schema_version": 3,
          "solution": true,
          "task": false
        }
      },
      "outputs": [],
      "source": [
        "def hermit(x, y, y_prime):\n",
        "    assert len(x) == len(y)\n",
        "    assert len(y) == len(y_prime)\n",
        "    \n",
        "    f = Polynomial([0,0])\n",
        "    # --------------------------------------------\n",
        "    # YOUR CODE HERE\n",
        "    for k in range(len(x)):\n",
        "      add=(y[k]*h(k, x))+y_prime[k]*h_hat(k, x)\n",
        "      f+=add\n",
        "    # --------------------------------------------\n",
        "    return f"
      ]
    },
    {
      "cell_type": "markdown",
      "metadata": {
        "deletable": false,
        "editable": false,
        "id": "BZyouHLCPlvg",
        "nbgrader": {
          "cell_type": "markdown",
          "checksum": "be144e5dff21332b4b93a63e59a035c2",
          "grade": false,
          "grade_id": "plot_intro",
          "locked": true,
          "schema_version": 3,
          "solution": false,
          "task": false
        }
      },
      "source": [
        "## Testing our methods by plotting graphs.\n",
        "\n",
        "**Note:** \n",
        "\n",
        "* For each of the 5 plots, there will be 2 curves plotted: one being the original function, and the other being the interpolated curve. \n",
        "\n",
        "* The original functions are displayed in orange color, while the hermite interpolated curves are in blue.\n",
        "\n",
        "* `x`, `y`, and `y_prime` contain $x_i$, $f(x_i)$, and $f'(x_i)$ of the given nodes of the original function $f$.\n",
        "\n",
        "Upon calling the `hermit()` function, it returns a polynomial `f`. For example, for plot 1, it is called `f3`.\n",
        "\n",
        "In general, a polynomial may look like the following: $f = 1 + 2x + 3x^2$. Next, we pass in a number of $x$ values to the polynomial by calling the `.linspace()` function on the polynomial object using `f.linspace()`. This function outputs a tuple, which is stored in a variable called `data`. First element of `data` contains a 1D numpy array of $x_i$ values generated by `linspace()`, and the second element of `data` contains a 1D numpy array of the corresponding $y_i$ values outputted by our example polynomial:\n",
        "$f = 1 + 2x + 3x^2$. \n",
        "\n",
        "Using `test_x`, we generate a range of $x_i$ values to plot the original function, and `test_y` contains the corresponding $y_i$ values of the original function. For the first plot, our original function is the *sine curve*.\n",
        "\n",
        "For all the plots:\n",
        "\n",
        "`plt.plot(test_x, test_y)` plots the original function.\n",
        "\n",
        "`plt.plot(data[0], data[1])` plots the interpolated polynomial."
      ]
    },
    {
      "cell_type": "code",
      "execution_count": null,
      "metadata": {
        "deletable": false,
        "editable": false,
        "id": "I0AAKqRiPlvh",
        "nbgrader": {
          "cell_type": "code",
          "checksum": "9e619e399993ba9b52b9a5acfc6d952a",
          "grade": false,
          "grade_id": "samples",
          "locked": true,
          "schema_version": 3,
          "solution": false,
          "task": false
        }
      },
      "outputs": [],
      "source": [
        "pi      = np.pi\n",
        "x       = np.array([0.0, pi/8.0,  pi, 4.0*pi/2.0])\n",
        "y       = np.array([0.0,    1.0, 0.0,       -1.0])\n",
        "y_prime = np.array([1.0,    0.0, 1.0,        0.0])"
      ]
    },
    {
      "cell_type": "markdown",
      "metadata": {
        "deletable": false,
        "editable": false,
        "id": "CE1RRR6pPlvh",
        "nbgrader": {
          "cell_type": "markdown",
          "checksum": "62a455aacd036963d695b540c90f7cd0",
          "grade": false,
          "grade_id": "plot01",
          "locked": true,
          "schema_version": 3,
          "solution": false,
          "task": false
        }
      },
      "source": [
        "**Plot 1:** trying to interpolate a sine curve (`np.sin()`) using first 2 nodes in `x` and `y`, and their corresponding derivative in `y_prime`."
      ]
    },
    {
      "cell_type": "code",
      "execution_count": null,
      "metadata": {
        "deletable": false,
        "editable": false,
        "id": "QQPpgFHEPlvh",
        "nbgrader": {
          "cell_type": "code",
          "checksum": "6d5bb5d8680003a78893653e98f6a087",
          "grade": true,
          "grade_id": "plot01_test",
          "locked": true,
          "points": 1,
          "schema_version": 3,
          "solution": false,
          "task": false
        },
        "colab": {
          "base_uri": "https://localhost:8080/",
          "height": 430
        },
        "outputId": "f77a8b44-31e4-41a2-e232-badd2d34b70e"
      },
      "outputs": [
        {
          "output_type": "display_data",
          "data": {
            "text/plain": [
              "<Figure size 640x480 with 1 Axes>"
            ],
            "image/png": "[encoded data removed]"
          },
          "metadata": {}
        }
      ],
      "source": [
        "# 2 nodes less accurate\n",
        "n      = 1\n",
        "f3     = hermit(x[:(n+1)], y[:(n+1)], y_prime[:(n+1)])\n",
        "data   = f3.linspace(n=50, domain=[-3, 3])\n",
        "test_x = np.linspace(-10, 10, 50, endpoint=True)\n",
        "test_y = np.sin(test_x)\n",
        "\n",
        "plt.plot(data[0], data[1])\n",
        "plt.plot(test_x, test_y)\n",
        "plt.show()"
      ]
    },
    {
      "cell_type": "markdown",
      "metadata": {
        "deletable": false,
        "editable": false,
        "id": "W7v9mEcLPlvh",
        "nbgrader": {
          "cell_type": "markdown",
          "checksum": "d8f7bf96ae4f35419f880d25e72cff09",
          "grade": false,
          "grade_id": "plot02",
          "locked": true,
          "schema_version": 3,
          "solution": false,
          "task": false
        }
      },
      "source": [
        "**Plot 2:** trying to interpolate a sine curve (`np.sin()`) using first 3 nodes in `x` and `y` and their corresponding derivative in `y_prime`."
      ]
    },
    {
      "cell_type": "code",
      "execution_count": null,
      "metadata": {
        "deletable": false,
        "editable": false,
        "id": "qnNNOyC5Plvh",
        "nbgrader": {
          "cell_type": "code",
          "checksum": "25f490548e99af7d5fccb9fd5c653e80",
          "grade": true,
          "grade_id": "plot02_ans",
          "locked": true,
          "points": 1,
          "schema_version": 3,
          "solution": false,
          "task": false
        },
        "colab": {
          "base_uri": "https://localhost:8080/",
          "height": 430
        },
        "outputId": "c1b9e79e-311b-4de9-aafc-3ac8726c14e4"
      },
      "outputs": [
        {
          "output_type": "display_data",
          "data": {
            "text/plain": [
              "<Figure size 640x480 with 1 Axes>"
            ],
            "image/png": "[encoded data removed]"
          },
          "metadata": {}
        }
      ],
      "source": [
        "n      = 2\n",
        "f5     = hermit(x[:(n+1)], y[:(n+1)], y_prime[:(n+1)])\n",
        "data   = f5.linspace(n=100, domain=[-0.85, 2.5])\n",
        "test_x = np.linspace(-5*pi, 5*pi, 100, endpoint=True)\n",
        "test_y = np.sin(test_x)\n",
        "\n",
        "plt.plot(test_x, test_y) # 25-\n",
        "plt.plot(data[0], data[1]) # 10-33\n",
        "plt.show()\n"
      ]
    },
    {
      "cell_type": "markdown",
      "metadata": {
        "deletable": false,
        "editable": false,
        "id": "InK1vx-bPlvi",
        "nbgrader": {
          "cell_type": "markdown",
          "checksum": "aae683a514e99dfecaa8672e1d6a4cb3",
          "grade": false,
          "grade_id": "plot03",
          "locked": true,
          "schema_version": 3,
          "solution": false,
          "task": false
        }
      },
      "source": [
        "**Plot 3:** trying to interpolate a sine curve (`np.sin()`) using first 4 nodes in `x` and `y` and their corresponding derivative in `y_prime`."
      ]
    },
    {
      "cell_type": "code",
      "execution_count": null,
      "metadata": {
        "deletable": false,
        "editable": false,
        "id": "eondZ70xPlvi",
        "nbgrader": {
          "cell_type": "code",
          "checksum": "29fc16454184db75748c0381eff20504",
          "grade": true,
          "grade_id": "plot03_ans",
          "locked": true,
          "points": 1,
          "schema_version": 3,
          "solution": false,
          "task": false
        },
        "colab": {
          "base_uri": "https://localhost:8080/",
          "height": 430
        },
        "outputId": "994de2c4-fa65-4c37-b42a-ade356263d63"
      },
      "outputs": [
        {
          "output_type": "display_data",
          "data": {
            "text/plain": [
              "<Figure size 640x480 with 1 Axes>"
            ],
            "image/png": "[encoded data removed]"
          },
          "metadata": {}
        }
      ],
      "source": [
        "#Num of nodes increase approximation better\n",
        "n      = 3\n",
        "f7     = hermit(x[:(n+1)], y[:(n+1)], y_prime[:(n+1)])\n",
        "data   = f7.linspace(n=50, domain=[-0.45, 3.3])\n",
        "test_x = np.linspace(-6*pi, 6*pi, 50, endpoint=True)\n",
        "test_y = np.sin(test_x)\n",
        "\n",
        "plt.plot(data[0], data[1])\n",
        "plt.plot(test_x, test_y)\n",
        "plt.show()\n"
      ]
    },
    {
      "cell_type": "markdown",
      "metadata": {
        "deletable": false,
        "editable": false,
        "id": "qR1mUG58Plvi",
        "nbgrader": {
          "cell_type": "markdown",
          "checksum": "d8edc2554aa6f2946081a47711e0f556",
          "grade": false,
          "grade_id": "plot04",
          "locked": true,
          "schema_version": 3,
          "solution": false,
          "task": false
        }
      },
      "source": [
        "**Plot 4:** trying to interpolate an exponential curve (`np.exp()`) using all nodes in `x` and `y` and their corresponding derivatives in `y_prime`."
      ]
    },
    {
      "cell_type": "code",
      "execution_count": null,
      "metadata": {
        "deletable": false,
        "editable": false,
        "id": "tMgsKsC9Plvi",
        "nbgrader": {
          "cell_type": "code",
          "checksum": "4978eef584205c7563997760c20241c6",
          "grade": true,
          "grade_id": "plot04_test",
          "locked": true,
          "points": 1,
          "schema_version": 3,
          "solution": false,
          "task": false
        },
        "colab": {
          "base_uri": "https://localhost:8080/",
          "height": 430
        },
        "outputId": "63f3edff-8f9e-4dc2-bd4a-9bd8c1cbd1a8"
      },
      "outputs": [
        {
          "output_type": "display_data",
          "data": {
            "text/plain": [
              "<Figure size 640x480 with 1 Axes>"
            ],
            "image/png": "[encoded data removed]"
          },
          "metadata": {}
        }
      ],
      "source": [
        "#defining new set of given node information: x, y and y'\n",
        "x       = np.array([0.0, 1.0,          2.0       ])\n",
        "y       = np.array([1.0, 2.71828183,  54.59815003])\n",
        "y_prime = np.array([0.0, 5.43656366, 218.39260013])\n",
        "\n",
        "\n",
        "f7      = hermit( x, y, y_prime)\n",
        "data    = f7.linspace(n=50, domain=[-0.7, 2.45])\n",
        "test_x  = np.linspace(-0.5, 2.2, 50, endpoint=True)\n",
        "test_y  = np.exp(test_x**2)\n",
        "\n",
        "plt.plot(data[0], data[1])\n",
        "plt.plot(test_x, test_y)\n",
        "plt.show()\n",
        "\n"
      ]
    },
    {
      "cell_type": "markdown",
      "metadata": {
        "deletable": false,
        "editable": false,
        "id": "DYVL-_XcPlvi",
        "nbgrader": {
          "cell_type": "markdown",
          "checksum": "5419db887410ebe73b42fa5f21ffc50e",
          "grade": false,
          "grade_id": "plot05",
          "locked": true,
          "schema_version": 3,
          "solution": false,
          "task": false
        }
      },
      "source": [
        "**Plot 5:** trying to interpolate $y = (x-3)^2 + 1$ using all nodes in `x` and `y` and their corresponding derivatives in `y_prime`.\n",
        "\n",
        "For this plot you might be able to see only one curve due to the two curves overlapping. This means that our polynomial is accurately interpolating the original function.\n"
      ]
    },
    {
      "cell_type": "code",
      "execution_count": null,
      "metadata": {
        "deletable": false,
        "editable": false,
        "id": "tuHX_czoPlvj",
        "nbgrader": {
          "cell_type": "code",
          "checksum": "92cc6293f29ebf42544cedf49e4c1fc5",
          "grade": true,
          "grade_id": "plot05_test",
          "locked": true,
          "points": 3,
          "schema_version": 3,
          "solution": false,
          "task": false
        },
        "colab": {
          "base_uri": "https://localhost:8080/",
          "height": 430
        },
        "outputId": "4431be9d-e21d-466b-e7fd-8fd44d1b72a7"
      },
      "outputs": [
        {
          "output_type": "display_data",
          "data": {
            "text/plain": [
              "<Figure size 640x480 with 1 Axes>"
            ],
            "image/png": "[encoded data removed]"
          },
          "metadata": {}
        }
      ],
      "source": [
        "# degree increase more accuracy defining new set of given node information: x, y and y'\n",
        "x       = np.array([1.0, 3.0, 5.0])\n",
        "y       = np.array([5.0, 1.0, 5.0])\n",
        "y_prime = np.array([-4.0, 0.0, 4.0])\n",
        "\n",
        "f7      = hermit( x, y, y_prime)\n",
        "data    = f7.linspace(n=50, domain=[-11, 10.5])\n",
        "test_x  = np.linspace(-10, 10, 50, endpoint=True)\n",
        "test_y  = (test_x-3)**2 + 1\n",
        "\n",
        "plt.plot(data[0], data[1])\n",
        "plt.plot(test_x, test_y)\n",
        "plt.show()"
      ]
    },
    {
      "cell_type": "markdown",
      "metadata": {
        "deletable": false,
        "editable": false,
        "id": "UgP_TWwOPlvj",
        "nbgrader": {
          "cell_type": "markdown",
          "checksum": "c07a0720672d1b686830ce5cef78046c",
          "grade": false,
          "grade_id": "cell-580b64f506c61583",
          "locked": true,
          "schema_version": 3,
          "solution": false,
          "task": false
        }
      },
      "source": [
        "## Part 2: Polynomial Interpolation Using Newton's Divided Difference Form\n",
        "---\n"
      ]
    },
    {
      "cell_type": "markdown",
      "metadata": {
        "deletable": false,
        "editable": false,
        "id": "AgAbn67kPlvj",
        "nbgrader": {
          "cell_type": "markdown",
          "checksum": "030540dd5ee10acfca978c35d1e76cb8",
          "grade": false,
          "grade_id": "cell-95fa6d3532e84eff",
          "locked": true,
          "schema_version": 3,
          "solution": false,
          "task": false
        }
      },
      "source": [
        "### Newton's Divided Difference Form\n",
        "\n",
        "Newton form of a $n$ degree polynomial:\n",
        "\n",
        "$$p_n(x) = \\sum_{k=0}^{n} a_kn_k(x),$$\n",
        "where the basis is:\n",
        "$$n_k(x) = \\prod_{j=0}^{k-1}(x-x_j),$$\n",
        "$$ n_0(x)=1,$$\n",
        "\n",
        "and the coefficients are: $$a_k = f[x_0, x_1, ..., x_k],$$\n",
        "\n",
        "where the notation $f[x_0, x_1,\\dots,x_k]$ denotes the divided difference.\n",
        "\n",
        "By expanding the Newton form, we get:\n",
        "\n",
        "$$p(x) = f [x_0] + (x-x_0) f[x_0,x_1] + (x-x_0) (x-x_1) f[x_0,x_1,x_2] + \\dots + (x-x_0) (x-x_1) \\dots (x-x_{k-1}) f[x_0, x_1, \\dots, x_k]$$\n",
        "\n",
        "### Tasks: \n",
        "1. Complete the `calc_div_diff(x,y)` function which takes input `x` and `y`, and calculates all the divided differences. You may use the lambda function `difference()` inside the `calc_div_diff(x,y)` function to calculate the divided differences.\n",
        "\n",
        "2. Complete the `__call__()` function which takes an input `x`, and calculates `y` using all the difference coefficients. `x` can be a single value or a numpy. In this case, it is a numpy array.\n",
        "\n",
        "`res` variable must contain all results (corresponding y for x)."
      ]
    },
    {
      "cell_type": "code",
      "source": [
        "#Use to add extra nodes "
      ],
      "metadata": {
        "id": "f5ZAzCjloT9Y"
      },
      "execution_count": null,
      "outputs": []
    },
    {
      "cell_type": "code",
      "execution_count": null,
      "metadata": {
        "deletable": false,
        "id": "iLUOVj3APlvj",
        "nbgrader": {
          "cell_type": "code",
          "checksum": "50cdde63e49e009a199201f86744564a",
          "grade": false,
          "grade_id": "cell-9e446c528b62c87f",
          "locked": false,
          "schema_version": 3,
          "solution": true,
          "task": false
        }
      },
      "outputs": [],
      "source": [
        "class Newtons_Divided_Differences:\n",
        "  \n",
        "    def __init__(self, differences):\n",
        "        self.differences = differences #b[0]- the values from next function \n",
        "\n",
        "    def __call__(self, x):\n",
        "        '''\n",
        "        this function is for calculating y from given x using all the difference coefficients\n",
        "        x can be a single value or a numpy\n",
        "        the formula being used:\n",
        "        f(x) = f [x0] + (x-x0) f[x0,x1] + (x-x0) (x-x1) f[x0,x1,x2] + . . . + (x-x0) (x-x1) . . . (x-xk-1) f[x0, x1, . . ., xk]\n",
        "\n",
        "        work on this after implementing 'calc_div_diff'. Then you should have\n",
        "        f[x0], f[x0,x1]. . . . . ., f[x0, x1, . . ., xk] stored in self.differences\n",
        "\n",
        "        'res' variable must return all the results (corresponding y for x)\n",
        "        '''\n",
        "\n",
        "        res = np.zeros(len(x)) #Initialization to avoid runtime error. You can change this line if you wish\n",
        "\n",
        "        #----------------------------------------------\n",
        "        # YOUR CODE HERE\n",
        "        for i in range(len(x)): # For each value of x, a nested loop is used to compute the value of the function\n",
        "            for j in range(len(self.differences)): #as manu terms as diff matrix's first row\n",
        "              product = 1.0\n",
        "              for k in range(j): # each term is multiplying (x−x0)(x−x1)f[x0,x1,x2]\n",
        "                product = (x[i] - data_x[k]) * product  #(when j=1 term=1 then (x-xo)or k=0)\n",
        "                res[i] = res[i] + self.differences[j] * product # 3 terms adding # first time is f(x) only so then n=1 as k loop wont run\n",
        "        #----------------------------------------------\n",
        "        return res\n",
        "\n",
        "        #----------------------------------------------\n"
      ]
    },
    {
      "cell_type": "code",
      "source": [],
      "metadata": {
        "id": "EPdRXfPdskLp"
      },
      "execution_count": null,
      "outputs": []
    },
    {
      "cell_type": "code",
      "execution_count": null,
      "metadata": {
        "deletable": false,
        "id": "HZhqt-6JPlvj",
        "nbgrader": {
          "cell_type": "code",
          "checksum": "abd6bbf6334a986a608c38206f702989",
          "grade": false,
          "grade_id": "cell-fbe4c16afb6b3b32",
          "locked": false,
          "schema_version": 3,
          "solution": true,
          "task": false
        }
      },
      "outputs": [],
      "source": [
        "# basic rule for calculating the difference, implanted in the lambda function. \n",
        "# You may use it if you wish\n",
        "difference = lambda y2, y1, x2, x1: (y2-y1)/(x2-x1)\n",
        "\n",
        "def calc_div_diff(x,y):\n",
        "    assert(len(x)==len(y))\n",
        "    #write this function to calculate all the divided differences in the list 'b'\n",
        "    b = []  #initializing\n",
        "    #----------------------------------------------\n",
        "    # YOUR CODE HERE\n",
        "    b = np.zeros([len(x),len(x)])  #Empty matrix \n",
        "    b[ :,0]=y #Plug y values in first column of - Access[:,0]all rows, first column\n",
        "    for col in range(1,len(x)): #start from 1 as 0 is populated , first complete a column then move to the next row\n",
        "      for row in range(0,len(x)-col): #don't need to iterate all rows only n-column is needed\n",
        "        b[row,col]= (b[row +1,col-1] - b[row,col-1]) / (x[row + col] - x[row])\n",
        "      \n",
        "    #----------------------------------------------\n",
        "    return b[0]\n",
        "\n",
        "\n",
        "    #raise NotImplementedError()\n",
        "    #----------------------------------------------\n",
        "    return b[0]"
      ]
    },
    {
      "cell_type": "code",
      "execution_count": null,
      "metadata": {
        "deletable": false,
        "editable": false,
        "id": "FancUC_xPlvk",
        "nbgrader": {
          "cell_type": "code",
          "checksum": "a23dd58fcab86885a166b1e138b9ea08",
          "grade": true,
          "grade_id": "cell-72b9329c6c32517e",
          "locked": true,
          "points": 5,
          "schema_version": 3,
          "solution": false,
          "task": false
        }
      },
      "outputs": [],
      "source": [
        "data_x = [-3.,-2.,-1.,0.,1.,3.,4.]\n",
        "data_y = [-60.,-80.,6.,1.,45.,30.,16.]\n",
        "\n",
        "test = calc_div_diff(data_x, data_y)\n",
        "\n",
        "assert len(test) == len(data_x)\n"
      ]
    },
    {
      "cell_type": "markdown",
      "metadata": {
        "deletable": false,
        "editable": false,
        "id": "affgKuuNPlvk",
        "nbgrader": {
          "cell_type": "markdown",
          "checksum": "e2b6e9e71eaf31b857393044c2768ac0",
          "grade": false,
          "grade_id": "cell-f6a9f264b02b2642",
          "locked": true,
          "schema_version": 3,
          "solution": false,
          "task": false
        }
      },
      "source": [
        "### Plotting the polynomial\n",
        "* `data_x` and `data_y` are the coordinates of the given nodes.\n",
        "\n",
        "* `differences` is a list which contains the divided differences as each of its elements: $f[x_0], f[x_0,x_1], f[x_0,x_1,x_2], \\dots$\n",
        "\n",
        "* `obj` is an object of type `Newtons_Divided_Differences`. Creating the object runs the constructor of the class where the `difference` are stored in `self.differences`.\n",
        "\n",
        "* `X` contains $x_i$ values through which we want to plot our polynomial.\n",
        "\n",
        "* Calling the object using `obj(X)` executes the `__call__()` function of the class, which returns a numpy array containing the corresponding $y_i$ values, and storing them in variable `F`.\n",
        "\n",
        "* Using `plt.plot(X,F)`, we plot the $(x_i, y_i)$ pairs of the polynomial."
      ]
    },
    {
      "cell_type": "code",
      "execution_count": null,
      "metadata": {
        "deletable": false,
        "editable": false,
        "id": "akcjxODFPlvk",
        "nbgrader": {
          "cell_type": "code",
          "checksum": "3f9ba22ae7061e1d74101e40a2d5a7a4",
          "grade": true,
          "grade_id": "cell-a16b9abefbcdc519",
          "locked": true,
          "points": 5,
          "schema_version": 3,
          "solution": false,
          "task": false
        },
        "colab": {
          "base_uri": "https://localhost:8080/",
          "height": 430
        },
        "outputId": "cfed9227-8c59-413e-da84-6ab0e6cbbda8"
      },
      "outputs": [
        {
          "output_type": "display_data",
          "data": {
            "text/plain": [
              "<Figure size 640x480 with 1 Axes>"
            ],
            "image/png": "[encoded data removed]"
          },
          "metadata": {}
        }
      ],
      "source": [
        "import numpy as np\n",
        "import matplotlib.pyplot as plt\n",
        "\n",
        "data_x = np.array([-5.,-1,-0.5,0.5,3.5,7.,9])\n",
        "data_y = np.array([-30., -50., 36., 31., 75., 60., 46.])\n",
        "differences = calc_div_diff(list(data_x), list(data_y)) #getting the vals to my function\n",
        "p = Newtons_Divided_Differences(list(differences)) #call function e pass\n",
        "test_x = np.linspace(-7, 10, 50, endpoint=True)\n",
        "test_y = p(test_x)\n",
        "\n",
        "#generating 50 points from -3 to 4 in order to create a smooth line\n",
        "plt.plot(test_x, test_y)\n",
        "plt.plot(data_x, data_y, 'ro')\n",
        "plt.show()\n"
      ]
    },
    {
      "cell_type": "markdown",
      "source": [
        "**Problem related Newton's Divided Difference interpolation**\n",
        "\n",
        "Suppose, you have three nodes (-0.5, 1.87), (0, 2.20), (0.5, 2.44). Using Newton's Divided Difference method, print out the value of the interpolating polynomial at x = 6.\n",
        "\n",
        "You have to solve the problem using Newtons_Divided_Differences class."
      ],
      "metadata": {
        "id": "Cy_hrOvvz7B2"
      }
    },
    {
      "cell_type": "markdown",
      "source": [
        "**Problem related Hermite interpolation**\n",
        "\n",
        "Suppose, consider the following data set:\n",
        "\n",
        "![Capture.JPG](data:image/jpeg;base64,/9j/4AAQSkZJRgABAQEAeAB4AAD/4RDaRXhpZgAATU0AKgAAAAgABAE7AAIAAAAFAAAISodpAAQAAAABAAAIUJydAAEAAAAKAAAQyOocAAcAAAgMAAAAPgAAAAAc6gAAAAgAAAAAAAAAAAAAAAAAAAAAAAAAAAAAAAAAAAAAAAAAAAAAAAAAAAAAAAAAAAAAAAAAAAAAAAAAAAAAAAAAAAAAAAAAAAAAAAAAAAAAAAAAAAAAAAAAAAAAAAAAAAAAAAAAAAAAAAAAAAAAAAAAAAAAAAAAAAAAAAAAAAAAAAAAAAAAAAAAAAAAAAAAAAAAAAAAAAAAAAAAAAAAAAAAAAAAAAAAAAAAAAAAAAAAAAAAAAAAAAAAAAAAAAAAAAAAAAAAAAAAAAAAAAAAAAAAAAAAAAAAAAAAAAAAAAAAAAAAAAAAAAAAAAAAAAAAAAAAAAAAAAAAAAAAAAAAAAAAAAAAAAAAAAAAAAAAAAAAAAAAAAAAAAAAAAAAAAAAAAAAAAAAAAAAAAAAAAAAAAAAAAAAAAAAAAAAAAAAAAAAAAAAAAAAAAAAAAAAAAAAAAAAAAAAAAAAAAAAAAAAAAAAAAAAAAAAAAAAAAAAAAAAAAAAAAAAAAAAAAAAAAAAAAAAAAAAAAAAAAAAAAAAAAAAAAAAAAAAAAAAAAAAAAAAAAAAAAAAAAAAAAAAAAAAAAAAAAAAAAAAAAAAAAAAAAAAAAAAAAAAAAAAAAAAAAAAAAAAAAAAAAAAAAAAAAAAAAAAAAAAAAAAAAAAAAAAAAAAAAAAAAAAAAAAAAAAAAAAAAAAAAAAAAAAAAAAAAAAAAAAAAAAAAAAAAAAAAAAAAAAAAAAAAAAAAAAAAAAAAAAAAAAAAAAAAAAAAAAAAAAAAAAAAAAAAAAAAAAAAAAAAAAAAAAAAAAAAAAAAAAAAAAAAAAAAAAAAAAAAAAAAAAAAAAAAAAAAAAAAAAAAAAAAAAAAAAAAAAAAAAAAAAAAAAAAAAAAAAAAAAAAAAAAAAAAAAAAAAAAAAAAAAAAAAAAAAAAAAAAAAAAAAAAAAAAAAAAAAAAAAAAAAAAAAAAAAAAAAAAAAAAAAAAAAAAAAAAAAAAAAAAAAAAAAAAAAAAAAAAAAAAAAAAAAAAAAAAAAAAAAAAAAAAAAAAAAAAAAAAAAAAAAAAAAAAAAAAAAAAAAAAAAAAAAAAAAAAAAAAAAAAAAAAAAAAAAAAAAAAAAAAAAAAAAAAAAAAAAAAAAAAAAAAAAAAAAAAAAAAAAAAAAAAAAAAAAAAAAAAAAAAAAAAAAAAAAAAAAAAAAAAAAAAAAAAAAAAAAAAAAAAAAAAAAAAAAAAAAAAAAAAAAAAAAAAAAAAAAAAAAAAAAAAAAAAAAAAAAAAAAAAAAAAAAAAAAAAAAAAAAAAAAAAAAAAAAAAAAAAAAAAAAAAAAAAAAAAAAAAAAAAAAAAAAAAAAAAAAAAAAAAAAAAAAAAAAAAAAAAAAAAAAAAAAAAAAAAAAAAAAAAAAAAAAAAAAAAAAAAAAAAAAAAAAAAAAAAAAAAAAAAAAAAAAAAAAAAAAAAAAAAAAAAAAAAAAAAAAAAAAAAAAAAAAAAAAAAAAAAAAAAAAAAAAAAAAAAAAAAAAAAAAAAAAAAAAAAAAAAAAAAAAAAAAAAAAAAAAAAAAAAAAAAAAAAAAAAAAAAAAAAAAAAAAAAAAAAAAAAAAAAAAAAAAAAAAAAAAAAAAAAAAAAAAAAAAAAAAAAAAAAAAAAAAAAAAAAAAAAAAAAAAAAAAAAAAAAAAAAAAAAAAAAAAAAAAAAAAAAAAAAAAAAAAAAAAAAAAAAAAAAAAAAAAAAAAAAAAAAAAAAAAAAAAAAAAAAAAAAAAAAAAAAAAAAAAAAAAAAAAAAAAAAAAAAAAAAAAAAAAAAAAAAAAAAAAAAAAAAAAAAAAAAAAAAAAAAAAAAAAAAAAAAAAAAAAAAAAAAAAAAAAAAAAAAAAAAAAAAAAAAAAAAAAAAAAAAAAAAAAAAAAAAAAAAAAAAAAAAAAAAAAAAAAAAAAAAAAAAAAAAAAAAAAAAAAAAAAAAAAAAAAAAAAAAAAAAAAAAAAAAAAAAAAAAAAAAAAAAAAAAAAAAAAAAAAAAAAAAAAAAAAAAAAAAAAAAAAAAAAAAAAAAAAAAAAAAAAAAAAAAAAAAAAAAAAAAAAAAAAAAAAAAAAAAAAAAAAAAAAAAAAAAAAAAAAAAAAAAAAAAAAAAAAAAAAAAAAAAAAAAAAAAAAAAAAAAAAAAAAAAAAAAAAAAAAAAAAAAAAAAAAAAAAAAAAAAAAAAAAAAAAAAAAAAAAAAAAAAAAAAAAAAAAAAAAAAAAAAAAAAAAAAAAAAAAAAAAAAAAAAAAAAAAAAAAAAAAAAAAAAAAAAAAAAAAAAAAAAAAAAAAAAAAAAAAAAAAAAAAAAAAAAAAAAAAAAAAAAAAAAAAAAAAAAAAAAAAAAAAAAAAAAAAAAAAAAAAAAAAAAAAAAAAAAAAAAAAAAAAAAAAAAAAAAAAAAAAAAAAAAAAAAAAAAAAAAAAAAAAAAAAAAAAAAAAAAAAAAAAAAAAAAAAAAAAAAAAAAAAAAAAAAAAAAAAAAAAAAAAAAAAAAAAAAAAAAAAAAAAAAAAAAAAAAAAAAAAAAAAAAAAAAAAAAAAAAAAAAAAAAAAAAAAAAAAAAAAAAAAAAAAAAAAAAAAAAAAAAAAAAAAAAAAAAAAAAAAAAAAAAAAAAAAAAAAAAAAAAAAAAAAAAAAAAAAAAAAAAAAAAAAAAAAAAAAAAAAAAAAAAAAAAAAAAAAAAAAAAAAAAAAAAAAAAAAAAAAAAAAAAAAAAAAAAAAAAAAAAAAAAAAAAAAAAAAAAAAAERlbGwAAAAFkAMAAgAAABQAABCekAQAAgAAABQAABCykpEAAgAAAAMxOAAAkpIAAgAAAAMxOAAA6hwABwAACAwAAAiSAAAAABzqAAAACAAAAAAAAAAAAAAAAAAAAAAAAAAAAAAAAAAAAAAAAAAAAAAAAAAAAAAAAAAAAAAAAAAAAAAAAAAAAAAAAAAAAAAAAAAAAAAAAAAAAAAAAAAAAAAAAAAAAAAAAAAAAAAAAAAAAAAAAAAAAAAAAAAAAAAAAAAAAAAAAAAAAAAAAAAAAAAAAAAAAAAAAAAAAAAAAAAAAAAAAAAAAAAAAAAAAAAAAAAAAAAAAAAAAAAAAAAAAAAAAAAAAAAAAAAAAAAAAAAAAAAAAAAAAAAAAAAAAAAAAAAAAAAAAAAAAAAAAAAAAAAAAAAAAAAAAAAAAAAAAAAAAAAAAAAAAAAAAAAAAAAAAAAAAAAAAAAAAAAAAAAAAAAAAAAAAAAAAAAAAAAAAAAAAAAAAAAAAAAAAAAAAAAAAAAAAAAAAAAAAAAAAAAAAAAAAAAAAAAAAAAAAAAAAAAAAAAAAAAAAAAAAAAAAAAAAAAAAAAAAAAAAAAAAAAAAAAAAAAAAAAAAAAAAAAAAAAAAAAAAAAAAAAAAAAAAAAAAAAAAAAAAAAAAAAAAAAAAAAAAAAAAAAAAAAAAAAAAAAAAAAAAAAAAAAAAAAAAAAAAAAAAAAAAAAAAAAAAAAAAAAAAAAAAAAAAAAAAAAAAAAAAAAAAAAAAAAAAAAAAAAAAAAAAAAAAAAAAAAAAAAAAAAAAAAAAAAAAAAAAAAAAAAAAAAAAAAAAAAAAAAAAAAAAAAAAAAAAAAAAAAAAAAAAAAAAAAAAAAAAAAAAAAAAAAAAAAAAAAAAAAAAAAAAAAAAAAAAAAAAAAAAAAAAAAAAAAAAAAAAAAAAAAAAAAAAAAAAAAAAAAAAAAAAAAAAAAAAAAAAAAAAAAAAAAAAAAAAAAAAAAAAAAAAAAAAAAAAAAAAAAAAAAAAAAAAAAAAAAAAAAAAAAAAAAAAAAAAAAAAAAAAAAAAAAAAAAAAAAAAAAAAAAAAAAAAAAAAAAAAAAAAAAAAAAAAAAAAAAAAAAAAAAAAAAAAAAAAAAAAAAAAAAAAAAAAAAAAAAAAAAAAAAAAAAAAAAAAAAAAAAAAAAAAAAAAAAAAAAAAAAAAAAAAAAAAAAAAAAAAAAAAAAAAAAAAAAAAAAAAAAAAAAAAAAAAAAAAAAAAAAAAAAAAAAAAAAAAAAAAAAAAAAAAAAAAAAAAAAAAAAAAAAAAAAAAAAAAAAAAAAAAAAAAAAAAAAAAAAAAAAAAAAAAAAAAAAAAAAAAAAAAAAAAAAAAAAAAAAAAAAAAAAAAAAAAAAAAAAAAAAAAAAAAAAAAAAAAAAAAAAAAAAAAAAAAAAAAAAAAAAAAAAAAAAAAAAAAAAAAAAAAAAAAAAAAAAAAAAAAAAAAAAAAAAAAAAAAAAAAAAAAAAAAAAAAAAAAAAAAAAAAAAAAAAAAAAAAAAAAAAAAAAAAAAAAAAAAAAAAAAAAAAAAAAAAAAAAAAAAAAAAAAAAAAAAAAAAAAAAAAAAAAAAAAAAAAAAAAAAAAAAAAAAAAAAAAAAAAAAAAAAAAAAAAAAAAAAAAAAAAAAAAAAAAAAAAAAAAAAAAAAAAAAAAAAAAAAAAAAAAAAAAAAAAAAAAAAAAAAAAAAAAAAAAAAAAAAAAAAAAAAAAAAAAAAAAAAAAAAAAAAAAAAAAAAAAAAAAAAAAAAAAAAAAAAAAAAAAAAAAAAAAAAAAAAAAAAAAAAAAAAAAAAAAAAAAAAAAAAAAAAAAAAAAAAAAAAAAAAAAAAAAAAAAAAAAAAAAAAAAAAAAAAAAAAAAAAAAAAAAAAAAAAAAAAAAAAAAAAAAAAAAAAAAAAAAAAAAAAAAAAAAAAAAAAAAAAAAAAAAAAAAAAAAAAAAAAAAAAAAAAAAAAAAAAAAAAAAAAAAAAAAAAAAAAAAAAAAAAAAAAAAAAAAAAAAAAAAAAAAAAAAAAAAAAAAAAAAAAAAAAAAAAAAAAAAAAAAAAAAAAAAAAAAAAAAAAAAAAAAAAAAAAAAAAAAAAAAAAAAAAAAAAAAAAAAAAAAAAAAAAAAAAAAAAAAAAAAAAAAAAAAAAAAAAAAAAAAAAAAAAAAAAAAAAAAAAAAAAAAAAAAAAAAAAAAAAAAAAAAAAAAAAAAAAAAAAAAAAAAAAAAAAAAAAAAAAAAAAAAAAAAAAAAAAAAAAAAAAAAAAAAAAAAAAAAAAAAAAAAAAAAAAAAAAAAAAAAAAAAAAAAAAAAAAAAAAAAAAAAAAAAAAAAAAAAAAAAAAAAAAAAAAAAAAAAAAAAAAAAAAAAAAAAAAAAAAAAAAAAAAAAAAAAAAAAAAAAAAAAAAAAAAAAAAAAAAAAAAAAAAAAAAAAAAAAAAAAAAAAAAAAAAAAAAAAAAAAAAAAAAAAAAAAAAAAAAAAAAAAAAAAAAAAAAAAAAAAAAAAAAAAAAAAAAAAAAAAAAAAAAAAAAAAAAAAAAAAAAAAAAAAAAAAAAAAAAAAAAAAAAAAAAAAAAAAAAAAAAAAAAAAAAAAAAAAAAAAAAAAAAAAAAAAAAAAAAAAAAAAAAAAAAAAAAAAAAAAAAAAAAAAAAAAAAAAAAAAAAAAAAAAAAAAAAAAAAAAAAAAAAAAAAAAAAAAAAAAAAAAAAAAAAAAAAAAAAAAAAAAAAAAAAAAAAAAAAAAAAAAAAAAAAAAAAAAAAAAAAAAAAAAAAAAAAAAAAAAAAAAAAAAAAAAAAAAAAAAAAAAAAAAAAAAAAAAAAAAAAAAAAAAAAAAAAAAAAAAAMjAyMjoxMDoxNCAxOTozNjoyNQAyMDIyOjEwOjE0IDE5OjM2OjI1AAAARABlAGwAbAAAAP/hCxdodHRwOi8vbnMuYWRvYmUuY29tL3hhcC8xLjAvADw/eHBhY2tldCBiZWdpbj0n77u/JyBpZD0nVzVNME1wQ2VoaUh6cmVTek5UY3prYzlkJz8+DQo8eDp4bXBtZXRhIHhtbG5zOng9ImFkb2JlOm5zOm1ldGEvIj48cmRmOlJERiB4bWxuczpyZGY9Imh0dHA6Ly93d3cudzMub3JnLzE5OTkvMDIvMjItcmRmLXN5bnRheC1ucyMiPjxyZGY6RGVzY3JpcHRpb24gcmRmOmFib3V0PSJ1dWlkOmZhZjViZGQ1LWJhM2QtMTFkYS1hZDMxLWQzM2Q3NTE4MmYxYiIgeG1sbnM6ZGM9Imh0dHA6Ly9wdXJsLm9yZy9kYy9lbGVtZW50cy8xLjEvIi8+PHJkZjpEZXNjcmlwdGlvbiByZGY6YWJvdXQ9InV1aWQ6ZmFmNWJkZDUtYmEzZC0xMWRhLWFkMzEtZDMzZDc1MTgyZjFiIiB4bWxuczp4bXA9Imh0dHA6Ly9ucy5hZG9iZS5jb20veGFwLzEuMC8iPjx4bXA6Q3JlYXRlRGF0ZT4yMDIyLTEwLTE0VDE5OjM2OjI1LjE4MDwveG1wOkNyZWF0ZURhdGU+PC9yZGY6RGVzY3JpcHRpb24+PHJkZjpEZXNjcmlwdGlvbiByZGY6YWJvdXQ9InV1aWQ6ZmFmNWJkZDUtYmEzZC0xMWRhLWFkMzEtZDMzZDc1MTgyZjFiIiB4bWxuczpkYz0iaHR0cDovL3B1cmwub3JnL2RjL2VsZW1lbnRzLzEuMS8iPjxkYzpjcmVhdG9yPjxyZGY6U2VxIHhtbG5zOnJkZj0iaHR0cDovL3d3dy53My5vcmcvMTk5OS8wMi8yMi1yZGYtc3ludGF4LW5zIyI+PHJkZjpsaT5EZWxsPC9yZGY6bGk+PC9yZGY6U2VxPg0KCQkJPC9kYzpjcmVhdG9yPjwvcmRmOkRlc2NyaXB0aW9uPjwvcmRmOlJERj48L3g6eG1wbWV0YT4NCiAgICAgICAgICAgICAgICAgICAgICAgICAgICAgICAgICAgICAgICAgICAgICAgICAgICAgICAgICAgICAgICAgICAgICAgICAgICAgICAgICAgICAgICAgICAgICAgICAgICAKICAgICAgICAgICAgICAgICAgICAgICAgICAgICAgICAgICAgICAgICAgICAgICAgICAgICAgICAgICAgICAgICAgICAgICAgICAgICAgICAgICAgICAgICAgICAgICAgICAgIAogICAgICAgICAgICAgICAgICAgICAgICAgICAgICAgICAgICAgICAgICAgICAgICAgICAgICAgICAgICAgICAgICAgICAgICAgICAgICAgICAgICAgICAgICAgICAgICAgICAgCiAgICAgICAgICAgICAgICAgICAgICAgICAgICAgICAgICAgICAgICAgICAgICAgICAgICAgICAgICAgICAgICAgICAgICAgICAgICAgICAgICAgICAgICAgICAgICAgICAgICAKICAgICAgICAgICAgICAgICAgICAgICAgICAgICAgICAgICAgICAgICAgICAgICAgICAgICAgICAgICAgICAgICAgICAgICAgICAgICAgICAgICAgICAgICAgICAgICAgICAgIAogICAgICAgICAgICAgICAgICAgICAgICAgICAgICAgICAgICAgICAgICAgICAgICAgICAgICAgICAgICAgICAgICAgICAgICAgICAgICAgICAgICAgICAgICAgICAgICAgICAgCiAgICAgICAgICAgICAgICAgICAgICAgICAgICAgICAgICAgICAgICAgICAgICAgICAgICAgICAgICAgICAgICAgICAgICAgICAgICAgICAgICAgICAgICAgICAgICAgICAgICAKICAgICAgICAgICAgICAgICAgICAgICAgICAgICAgICAgICAgICAgICAgICAgICAgICAgICAgICAgICAgICAgICAgICAgICAgICAgICAgICAgICAgICAgICAgICAgICAgICAgIAogICAgICAgICAgICAgICAgICAgICAgICAgICAgICAgICAgICAgICAgICAgICAgICAgICAgICAgICAgICAgICAgICAgICAgICAgICAgICAgICAgICAgICAgICAgICAgICAgICAgCiAgICAgICAgICAgICAgICAgICAgICAgICAgICAgICAgICAgICAgICAgICAgICAgICAgICAgICAgICAgICAgICAgICAgICAgICAgICAgICAgICAgICAgICAgICAgICAgICAgICAKICAgICAgICAgICAgICAgICAgICAgICAgICAgICAgICAgICAgICAgICAgICAgICAgICAgICAgICAgICAgICAgICAgICAgICAgICAgICAgICAgICAgICAgICAgICAgICAgICAgIAogICAgICAgICAgICAgICAgICAgICAgICAgICAgICAgICAgICAgICAgICAgICAgICAgICAgICAgICAgICAgICAgICAgICAgICAgICAgICAgICAgICAgICAgICAgICAgICAgICAgCiAgICAgICAgICAgICAgICAgICAgICAgICAgICAgICAgICAgICAgICAgICAgICAgICAgICAgICAgICAgICAgICAgICAgICAgICAgICAgICAgICAgICAgICAgICAgICAgICAgICAKICAgICAgICAgICAgICAgICAgICAgICAgICAgICAgICAgICAgICAgICAgICAgICAgICAgICAgICAgICAgICAgICAgICAgICAgICAgICAgICAgICAgICAgICAgICAgICAgICAgIAogICAgICAgICAgICAgICAgICAgICAgICAgICAgICAgICAgICAgICAgICAgICAgICAgICAgICAgICAgICAgICAgICAgICAgICAgICAgICAgICAgICAgICAgICAgICAgICAgICAgCiAgICAgICAgICAgICAgICAgICAgICAgICAgICAgICAgICAgICAgICAgICAgICAgICAgICAgICAgICAgICAgICAgICAgICAgICAgICAgICAgICAgICAgICAgICAgICAgICAgICAKICAgICAgICAgICAgICAgICAgICAgICAgICAgICAgICAgICAgICAgICAgICAgICAgICAgICAgICAgICAgICAgICAgICAgICAgICAgICAgICAgICAgICAgICAgICAgICAgICAgIAogICAgICAgICAgICAgICAgICAgICAgICAgICAgICAgICAgICAgICAgICAgICAgICAgICAgICAgICAgICAgICAgICAgICAgICAgICAgICAgICAgICAgICAgICAgICAgICAgICAgCiAgICAgICAgICAgICAgICAgICAgICAgICAgICAgICAgICAgICAgICAgICAgICAgICAgICAgICAgICAgICAgICAgICAgICAgICAgICAgICAgICAgICAgICAgICAgICAgICAgICAKICAgICAgICAgICAgICAgICAgICAgICAgICAgICAgICAgICAgICAgICAgICAgICAgICAgICAgICAgICAgICAgICAgICAgICAgICAgICAgICAgICAgICAgICAgICAgICAgICAgIAogICAgICAgICAgICAgICAgICAgICAgICAgICAgPD94cGFja2V0IGVuZD0ndyc/Pv/bAEMABwUFBgUEBwYFBggHBwgKEQsKCQkKFQ8QDBEYFRoZGBUYFxseJyEbHSUdFxgiLiIlKCkrLCsaIC8zLyoyJyorKv/bAEMBBwgICgkKFAsLFCocGBwqKioqKioqKioqKioqKioqKioqKioqKioqKioqKioqKioqKioqKioqKioqKioqKioqKv/AABEIAFoBZgMBIgACEQEDEQH/xAAfAAABBQEBAQEBAQAAAAAAAAAAAQIDBAUGBwgJCgv/xAC1EAACAQMDAgQDBQUEBAAAAX0BAgMABBEFEiExQQYTUWEHInEUMoGRoQgjQrHBFVLR8CQzYnKCCQoWFxgZGiUmJygpKjQ1Njc4OTpDREVGR0hJSlNUVVZXWFlaY2RlZmdoaWpzdHV2d3h5eoOEhYaHiImKkpOUlZaXmJmaoqOkpaanqKmqsrO0tba3uLm6wsPExcbHyMnK0tPU1dbX2Nna4eLj5OXm5+jp6vHy8/T19vf4+fr/xAAfAQADAQEBAQEBAQEBAAAAAAAAAQIDBAUGBwgJCgv/xAC1EQACAQIEBAMEBwUEBAABAncAAQIDEQQFITEGEkFRB2FxEyIygQgUQpGhscEJIzNS8BVictEKFiQ04SXxFxgZGiYnKCkqNTY3ODk6Q0RFRkdISUpTVFVWV1hZWmNkZWZnaGlqc3R1dnd4eXqCg4SFhoeIiYqSk5SVlpeYmZqio6Slpqeoqaqys7S1tre4ubrCw8TFxsfIycrS09TV1tfY2dri4+Tl5ufo6ery8/T19vf4+fr/2gAMAwEAAhEDEQA/APpGiq19f2+m23n3bssZdYxtRnJZmCqAFBJJJAqv/btr/wA8b/8A8F8//wARQBo0Vnf27a/88b//AMF8/wD8RR/btr/zxv8A/wAF8/8A8RQBo0Vnf27a/wDPG/8A/BfP/wDEUf27a/8APG//APBfP/8AEUAaNFZ39u2v/PG//wDBfP8A/EUf27a/88b/AP8ABfP/APEUAaNFZ39u2v8Azxv/APwXz/8AxFH9u2v/ADxv/wDwXz//ABFAGjRWd/btr/zxv/8AwXz/APxFH9u2v/PG/wD/AAXz/wDxFAGjRWVN4jsLeLzJ0vo03BdzafPjJIAH3O5IFSf27a/88b//AMF8/wD8RQBo0Vnf27a/88b/AP8ABfP/APEUf27a/wDPG/8A/BfP/wDEUAaNFZ39u2v/ADxv/wDwXz//ABFH9u2v/PG//wDBfP8A/EUAaNFZ39u2v/PG/wD/AAXz/wDxFH9u2v8Azxv/APwXz/8AxFAGjRWd/btr/wA8b/8A8F8//wARR/btr/zxv/8AwXz/APxFAGjRWd/btr/zxv8A/wAF8/8A8RR/btr/AM8b/wD8F8//AMRQBo0Vnf27a/8APG//APBfP/8AEUf27a/88b//AMF8/wD8RQBo0Vnf27a/88b/AP8ABfP/APEVHN4jsYEDzJfIpZUBOnz/AHmIUD7nckD8aANWis7+3bX/AJ43/wD4L5//AIij+3bX/njf/wDgvn/+IoA0aKzv7dtf+eN//wCC+f8A+Io/t21/543/AP4L5/8A4igDRorO/t21/wCeN/8A+C+f/wCIo/t21/543/8A4L5//iKANGis067aDrDfj/uHz/8AxFL/AG7a/wDPG/8A/BfP/wDEUAaNFZ39u2v/ADxv/wDwXz//ABFH9u2v/PG//wDBfP8A/EUAaNFZ39u2v/PG/wD/AAXz/wDxFH9u2v8Azxv/APwXz/8AxFAGjRWd/btr/wA8b/8A8F8//wARR/btr/zxv/8AwXz/APxFAGjRWd/btr/zxv8A/wAF8/8A8RU1hqlrqTTratJvt3EcqSRPGyMVDDIYA9CDQBbooooAxfFP/IPsv+wnZ/8Ao9K2qxfFP/IPsv8AsJ2f/o9K2qACiiigAooooAydY8SWOhqz33m+VHs86SNNwhDttUt35bjAye+Mc1a0zUk1S2eVILiAxytE8dxHsYMpwfYj3BIrD8S6RruszC3i/s86dFdW10sbs6yS+U4dkY4IAJAIIH8OCDuyOitBcC1X7ayGc5LiPlVyc7QcDIHTOBnGcCgCaiiigAooooAyfEv/ACBD/wBfNv8A+j0rWrJ8S/8AIEP/AF82/wD6PStagAooooAKKKKAMvxLrS+HfDOoau8LzrZwPMyJjOFBPcjjiuYsrrUdE+Hp1K8vNQfUtQFtCqXrKwguJdkWUHOFLtvxn8hxVzx7d29/pjeFomZ77VGhiMKox/cPKBI2cY4RZDjOeDWh4006S+8LuLZGeSzngvUjQZL+TKku0D1IQge5oAsXV/Z+GNJCuk8sVvC0shQbmEa8vKxJGfU9yTwCarz3yeItHvf7OFzbXFrh7eaWIp8+zejrnqpBGR6EggdKq+J7DV/E+jT2ejXFgNM1Cy2+c5fzDk5IBGRsZfl9RuJ5xg6V3e3GmeH7y81BYw6qfKt4PmwcBUjBwCzM2Ow5bFAFjQdWj13w7p+rQKVjvraOdVP8IZQcfrV+srwtpLaD4R0nSZGDvZWcUDsOhZVAJ/OtWgAooooAKy/EH/IMi/6/rT/0pjrUrL8Qf8gyL/r+tP8A0pjoA1KKKKACiiigArC8a67N4b8GapqttA809vbO0SqAcPtO0nJHGcVu1yPjS7i1JrTw1aky3dze2j3EQU/LbiQyMxOMYIhYfiPUUAVYfDd/qGk6PaX9xqU0T3sd9em9lUtH5SgrGMHO1pVVsc8bumQK2oLmTUvGt7C+Ra6TFGEAYgPNICWJHfam3H++3tW9XN2qT2HjbWY/3ajU4Irm1Zzw0iL5bqfoBGfox9KAFufG+m20xiNveynyRcxmCDzPNh3bTIuDkqCR6E5GAamMzad41htlb/RdUt5JNh/gmiK8j/eV+f8Acz3NZem6H4kXxNJrGpPpqzXNjBZu1s74txGzs5RWXneWGASMYGd2OdK5U33jyxEa7o9MtZZJn7LJKVVF+u1XJ9Pl9aAN+iiigAooooAKwtE/5GbxJ/19Q/8ApPHW7WFon/IzeJP+vqH/ANJ46AN2iiigDC8Xq76PbpFJ5UjahaBJMZ2Hz0wcHr9Kd/Zeuf8AQxN/4BR0vin/AJB9l/2E7P8A9HpW1QBif2Xrn/QxN/4BR0f2Xrn/AEMTf+AUdbdFAGJ/Zeuf9DE3/gFHVe+i1PTrfzrzxOyIWCqBYIzOx6KqjJY+wBNdHXIeKWmHj/wSBu+zm7ut/pv+zPt/HG+gC5YxanqNv59n4oMibirf6CgZGHVWU8qR3BAIqKaW6t9Ut9Nm8YRLe3LFYrf7LGXYhS547fKCcmoPCchTxZ40LMFtv7UhCEnA3/ZYdw+ucUeKv+R/8Ef9fd1/6SvQBqf2Xrn/AEMTf+AUdH9l65/0MTf+AUdbdFAGJ/Zeuf8AQxN/4BR0f2Xrn/QxN/4BR1t0UAcl4g03WU0cmXX2kXz4Bt+xxjnzkwfwPNaX9l65/wBDE3/gFHUviX/kCH/r5t//AEela1AGJ/Zeuf8AQxN/4BR0f2Xrn/QxN/4BR1t0UAYn9l65/wBDE3/gFHR/Zeuf9DE3/gFHW3VPUr+TT7dZYtPu78s23y7UIWHHU7mUY/GgDB1D7Zps0X2zxM3nurGNI9NWWTaMbm2qCdo4yegyM9quQ2Or3MEc1v4nEsUih0dLOMqwPIII6isvTbmS6+LNzLcQS22/QIGihnA3p+/l3jgkZ+5nBPak+Fkkg+Hdis7YZprryFY8mMTybMe23H4YoAkE8ttqCaanikRytJ5YVNOXyxIctsLgbQ55O0nJ9KSW6dtVh0+fxWv2hpNsPmacoR5Bn5UkI2lxz8oO4c8VyPhTULrSvh34W1HUIo7yW71wxXFvJErFJZZ5VMinGRIrHJPpke9dFrWh2l19g0TT5Gg02w1RNQvbqaVpCsgk8xYYySTuZ2HThV47igDRa6uV1D7EfFn74OIif7PXYsh6IXxtDnI+UnPI45rQ/svXP+hib/wCjrgb1ro/BXXCm7+0f7anxt+9539o/Jj3+7j8K9ZoAxP7L1z/AKGJv/AKOj+y9c/6GJv/AACjrbooAxP7L1z/AKGJv/AKOs7XNM1ldPiMmvs4+2WoA+xxjBM8YB/A4P4V1lZfiD/kGRf9f1p/6Ux0AQf2Xrn/AEMTf+AUdH9l65/0MTf+AUdbdFAGJ/Zeuf8AQxN/4BR0f2Xrn/QxN/4BR1t0UAYn9l65/wBDE3/gFHWZqVzNpE27UfFXlMqZkl/s1WWFCfvSMARGvB5YgcH0rrq4Dx0dPv8AR/FSaXLafa7Sx2a2ghKzy2/ls6xrL0QlS+CVcDPQUAdGum606B08SblYZDCzjIIrD0jWbbxLcpHovja11KaLL7YLON2h7Zb+4eSOcE810Gkarp//AAiFjqEAa3sv7OjuUibl44fLDDIHJwOK52DWz4efwrYrN9s07VLOXe5g8p0EcAkVwvUAgEENk5I545ANCC4u7m9FrF4qfzWz5ZbTlVJcDJ2ORtfAHO0nFUdN1e2v9Xm03SvGtrPqAmdJ7aCzjMiOnDF1HK/dxubAPHPSsLw9ba5pFz4aOpf8THwzJIH0s7wLnTy8TCNZsDEqhGKgjoTzuwDW1H4h/su28NXelz/brHXtUaAh7cxMEk811dQQGyu0ZznIyeOKAOg/svXP+hib/wAAo6P7L1z/AKGJv/AKOtuigDE/svXP+hib/wAAo6P7L1z/AKGJv/AKOtuigDE/svXP+hib/wAAo6r+GIpoNZ8Qx3dx9pmW7i3TFAm7/R48cDgYro6wtE/5GbxJ/wBfUP8A6Tx0AbtFFFAGH4tkSLSrWWVlSOPUbRndjgKBOmST2FW/+Ei0X/oMWH/gUn+NVfFQDadZhhkHUrQEHv8Av0rW+zQf88I/++BQBT/4SLRf+gxYf+BSf40f8JFov/QYsP8AwKT/ABq59mg/54R/98Cj7NB/zwj/AO+BQBT/AOEi0X/oMWH/AIFJ/jVe81Pw5qESR3ep6e4RxIhF2qsjDowIbIPuK1Ps0H/PCP8A74FYuualFp+qaPpltBb/AGrVbh40aSPcqIkbSO2ARnhQBz1bPagCNj4OeyFpLcaTLB9oF0VkuEfMwbcJCSclsgHJ5p15N4V1C+t7y71GxkuLUkwSfbgDESMErhuCRwcdRT9B1FNTvNXsbq2t1udLvPs7mNMK6tGsiMAc4+VwCMnkGsbxL4jv9G0XxDq0WlQRW+iMCsd3bkfbUCqzGOQNgfeKj5TyvvwAdN/wkWif9Biw/wDApP8AGj/hItF/6DFh/wCBSf41Ygjt57aOYW6KJEDBWQZGRnBqT7NB/wA8I/8AvgUAU/8AhItF/wCgxYf+BSf40f8ACRaL/wBBiw/8Ck/xq59mg/54R/8AfAo+zQf88I/++BQBz/iLXtIl0YrHqti7faIDhblCcCZCe/pWp/wkWi/9Biw/8Ck/xqt4lt4BopxDGP8ASLf+Ef8APZK1fs0H/PCP/vgUAU/+Ei0X/oMWH/gUn+NH/CRaL/0GLD/wKT/Grn2aD/nhH/3wKPs0H/PCP/vgUAU/+Ei0X/oMWH/gUn+NH/CRaL/0GLD/AMCk/wAaufZoP+eEf/fAo+zQf88I/wDvgUAY15eeGL64juLjUrHz4kaNJo70Ruqtjcu5WBwcDI6cD0pFn8JLcWM63OkiXTo2itHE0eYEIClV54BAA/Cm3F+0vjA6Fp8FpG0VgLyaaaHfjc5SNQoI/uOSc9h61L4V1W18TeGrXVEtI4ml3JJHtB2SIxRwPbcpx7UAQRN4QgvFuYrzTVkWZp0Au12JK2dzhN20MdzZYDJ3H1NZa+GvhqmuDWVttC/tIT/aPtRmQv5mc785655plx4nvbKPQb280qKG31bUxp72U1qY7mEsXCPncQwGzJ4GVOe2KmtfFtlfahJa2j6fJeW+pfYp9M8vFwi7yu/k9NoMmduNoIz3oA0i/hI3jXJvdO8xphcMBeKEaUAASFN20sMDnGeB6Vo/8JFov/QYsP8AwKT/ABrnNX13U9KuLXzNItVF1rKWEFsUDSTwN1mVlY4wu5yGUYCnPrXX/ZoP+eEf/fAoAp/8JFov/QYsP/ApP8aP+Ei0X/oMWH/gUn+NXPs0H/PCP/vgUfZoP+eEf/fAoAp/8JFov/QYsP8AwKT/ABrN17XtHk06IR6rYsRe2rELcoeBcRknr2AJre+zQf8APCP/AL4FZniC3gGmxYhjH+nWn8I/5+I6AJ/+Ei0X/oMWH/gUn+NH/CRaL/0GLD/wKT/Grn2aD/nhH/3wKPs0H/PCP/vgUAU/+Ei0X/oMWH/gUn+NH/CRaL/0GLD/AMCk/wAaufZoP+eEf/fAo+zQf88I/wDvgUAU/wDhItF/6DFh/wCBSf41nag/hLVFmW+vtPlS4XZOn20Ksy9MOoYBxjjBzxxW79mg/wCeEf8A3wK5fxXq2oaFpus39tploLews1mtnmQP9rlJb90ArBlOQoHByXGM9KANAXfhRdRS/W70kXaW/wBlWYTR7liznYDn7uRnFR203hS0ukuYb/T/ADo4zFGz3gfykOMqgZjtB2jgYHA9K1rNEuLCCaaySCWSJXeJlGY2IyVP06VieH9SudR8Q67pupWdjGdMkgVDbqTkSRhzknrjOOgoAktZPCdm0Jt7/T1FvzBGb0FIOCPkQttTgkfKBwSKWOXwnFeQ3S32nmWAsYd14rLCWGCUUthCQSOAOCRUL64n/CcQaRFZ25smsrmaS4K/MZIniUqO2B5hyeeRjjBrNs/Fxn0bw9rclla/YNcvVt0jEWJIVk3eUxOSCchQRgfe9uQDqP8AhItF/wCgxYf+BSf40f8ACRaL/wBBiw/8Ck/xq59mg/54R/8AfAo+zQf88I/++BQBT/4SLRf+gxYf+BSf40f8JFov/QYsP/ApP8aufZoP+eEf/fAo+zQf88I/++BQBT/4SLRf+gxYf+BSf41n+HLiG717xFPaypNC93FtkjYMrYt4wcEcVufZoP8AnhH/AN8CsbQlVPEniRUUKou4cADA/wCPeOgDeooooAxfFP8AyD7L/sJ2f/o9K2qy/EFjdX+molgIWuIbmG4RZ3KI3lyK5BYBiMgdcGoPtPir/oE6P/4NJf8A5HoA26KxPtPir/oE6P8A+DSX/wCR6PtPir/oE6P/AODSX/5HoA265rxNpM8/iDw7rdtG8w0m4lM0UYyxjkiZCyjuQdpx1IzjJwDa+0+Kv+gTo/8A4NJf/kej7T4q/wCgTo//AINJf/kegDN0Wz1LTr3XdZXTZJpNY1OJ47cyrGyQLHHF5jbuhAVn29cYHXioPE82q3urfZn8I6nqmm2rLLEIbi0SK5lHKlw86ttU/wAJXkjPOBWz9p8Vf9AnR/8AwaS//I9H2nxV/wBAnR//AAaS/wDyPQBsxFzCnmgB9o3AdAe9OrE+0+Kv+gTo/wD4NJf/AJHo+0+Kv+gTo/8A4NJf/kegDborE+0+Kv8AoE6P/wCDSX/5Ho+0+Kv+gTo//g0l/wDkegCXxL/yBD/182//AKPStauZ1OPxVqNibf8AszR4/wB5G+7+05T9x1bH/Hv324q39p8Vf9AnR/8AwaS//I9AG3RWJ9p8Vf8AQJ0f/wAGkv8A8j0fafFX/QJ0f/waS/8AyPQBt1R1bT59StVittVvNMZX3GWzERZhg/KfMRxjn0zx1ql9p8Vf9AnR/wDwaS//ACPR9p8Vf9AnR/8AwaS//I9AGWml3uheNP7Wf7ZqtvPpSWck+1GmMscrupZVCjDCQjIAA284zmn+DNL1LwxoOk6RNYmbzTcT3lwsy7bZ3cyBMdW5crkf3c960ftPir/oE6P/AODSX/5Ho+0+Kv8AoE6P/wCDSX/5HoAwUm1u/wDFcF5feENQR4J/KtZ7i4tGt7WEth5QFmLl2Qf3eMhRxuLU7jwk17d2l22n3EHim1vRKdXQ4V4/NG4FwfmjMY2iM8j0HWuq+0+Kv+gTo/8A4NJf/kej7T4q/wCgTo//AINJf/kegDmfEtj4k1mzS2jso4Ndi1RXs9St49sdvarKDuZyxJJjBDIOpb7uOa9BrE+0+Kv+gTo//g0l/wDkej7T4q/6BOj/APg0l/8AkegDborE+0+Kv+gTo/8A4NJf/kej7T4q/wCgTo//AINJf/kegDbrL8Qf8gyL/r+tP/SmOoPtPir/AKBOj/8Ag0l/+R6q6gniq+tUi/szR02zwzZ/tOU/6uRXx/x799uPxoA6WisT7T4q/wCgTo//AINJf/kej7T4q/6BOj/+DSX/AOR6ANuisT7T4q/6BOj/APg0l/8Akej7T4q/6BOj/wDg0l/+R6ANuuK8XwazqNhr+nTaXHeJPb7dFktk/eJKUILPIWwhD4IYYwB1Jra+0+Kv+gTo/wD4NJf/AJHo+0+Kv+gTo/8A4NJf/kegB+inVrS203TtUt2uHj06P7VqIlXa9wAFZdv3jnls4xWRodlqqeL/ABRc3GnXNjBqZgNtcs8LbdkIQkqrk5yOOK1PtPir/oE6P/4NJf8A5Ho+0+Kv+gTo/wD4NJf/AJHoA506Dr0HjvSmVZJ9LttPntZLoRxAAyPEcYMu852HLYzn1zVTTvDGpr4Z8JeGZbZ1fQr+Ga6uSMRtHBuKMh/iLHZx1GTnGOet+0+Kv+gTo/8A4NJf/kej7T4q/wCgTo//AINJf/kegDborE+0+Kv+gTo//g0l/wDkej7T4q/6BOj/APg0l/8AkegDborE+0+Kv+gTo/8A4NJf/kej7T4q/wCgTo//AINJf/kegDbrC0T/AJGbxJ/19Q/+k8dO+0+Kv+gTo/8A4NJf/kenaFYX9vd6peaqltFNfTpIIraZpVRViRPvMqnJ2k9KANmiiigAooooAKKKKACiiigAooooAKKKKACiiigAooooAKKKKACiiigAooooAKKKKACiiigAooooAKKKKACiiigAooooAKKKKACiiigAooooAKKKKACiiigAooooAKKKKAP/2Q==)\n",
        "\n",
        "Using Hermit basis, print out the interpolating polynomial and find the value at x = [0.15,0.30,0.50].\n",
        "\n",
        "You have to solve this problem using hermit function."
      ],
      "metadata": {
        "id": "1FlrGq6b0JSk"
      }
    },
    {
      "cell_type": "code",
      "source": [
        "x = [0.1, 0.2]\n",
        "y = [-0.620, -0.283]\n",
        "y_p = [3.585, 3.140]\n",
        "result = hermit(x,y,y_p)\n",
        "data_x = [0.15, 0.30, 0.50]\n",
        "print(result)\n",
        "for x in data_x:\n",
        "  print(f\"f({x}) : {result(x)}\")"
      ],
      "metadata": {
        "id": "9hfnYITF1fg0",
        "outputId": "87a5ad20-31bf-4ffe-ea2c-980ed1769067",
        "colab": {
          "base_uri": "https://localhost:8080/"
        }
      },
      "execution_count": null,
      "outputs": [
        {
          "output_type": "stream",
          "name": "stdout",
          "text": [
            "-8.652999999999999 + 145.74·x¹ - 788.75·x² + 1346.5·x³\n",
            "f(0.15) : 0.005562500000001691\n",
            "f(0.3) : 0.4370000000000047\n",
            "f(0.5) : 35.342000000000006\n"
          ]
        }
      ]
    }
  ],
  "metadata": {
    "colab": {
      "provenance": []
    },
    "kernelspec": {
      "display_name": "Python 3",
      "language": "python",
      "name": "python3"
    },
    "language_info": {
      "codemirror_mode": {
        "name": "ipython",
        "version": 3
      },
      "file_extension": ".py",
      "mimetype": "text/x-python",
      "name": "python",
      "nbconvert_exporter": "python",
      "pygments_lexer": "ipython3",
      "version": "3.9.1"
    }
  },
  "nbformat": 4,
  "nbformat_minor": 0
}